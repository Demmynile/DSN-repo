{
 "cells": [
  {
   "cell_type": "markdown",
   "id": "8adbd245-04a9-4fd5-b3f1-0e2b907c76fe",
   "metadata": {},
   "source": [
    " # Customer Segmentation using KMEANS CLUSTERING"
   ]
  },
  {
   "cell_type": "markdown",
   "id": "b19785cc-404b-4d44-ba08-5d453b5e41a0",
   "metadata": {},
   "source": [
    "### Importing Libraries"
   ]
  },
  {
   "cell_type": "code",
   "execution_count": 4,
   "id": "eaee5a32-4a5e-41a0-9ce5-0f9063ad3138",
   "metadata": {},
   "outputs": [],
   "source": [
    "import pandas as pd\n",
    "import matplotlib.pyplot as plt"
   ]
  },
  {
   "cell_type": "markdown",
   "id": "e147ae92-ddd0-4d3a-9c07-726b61de1ecc",
   "metadata": {},
   "source": [
    "### Data Acquisition\n"
   ]
  },
  {
   "cell_type": "code",
   "execution_count": 6,
   "id": "6005c7e2-6c17-4c28-9021-a864d1eea0e9",
   "metadata": {},
   "outputs": [
    {
     "data": {
      "text/html": [
       "<div>\n",
       "<style scoped>\n",
       "    .dataframe tbody tr th:only-of-type {\n",
       "        vertical-align: middle;\n",
       "    }\n",
       "\n",
       "    .dataframe tbody tr th {\n",
       "        vertical-align: top;\n",
       "    }\n",
       "\n",
       "    .dataframe thead th {\n",
       "        text-align: right;\n",
       "    }\n",
       "</style>\n",
       "<table border=\"1\" class=\"dataframe\">\n",
       "  <thead>\n",
       "    <tr style=\"text-align: right;\">\n",
       "      <th></th>\n",
       "      <th>CustomerID</th>\n",
       "      <th>Genre</th>\n",
       "      <th>Age</th>\n",
       "      <th>Annual Income (k$)</th>\n",
       "      <th>Spending Score (1-100)</th>\n",
       "    </tr>\n",
       "  </thead>\n",
       "  <tbody>\n",
       "    <tr>\n",
       "      <th>0</th>\n",
       "      <td>1</td>\n",
       "      <td>Male</td>\n",
       "      <td>19</td>\n",
       "      <td>15</td>\n",
       "      <td>39</td>\n",
       "    </tr>\n",
       "    <tr>\n",
       "      <th>1</th>\n",
       "      <td>2</td>\n",
       "      <td>Male</td>\n",
       "      <td>21</td>\n",
       "      <td>15</td>\n",
       "      <td>81</td>\n",
       "    </tr>\n",
       "    <tr>\n",
       "      <th>2</th>\n",
       "      <td>3</td>\n",
       "      <td>Female</td>\n",
       "      <td>20</td>\n",
       "      <td>16</td>\n",
       "      <td>6</td>\n",
       "    </tr>\n",
       "    <tr>\n",
       "      <th>3</th>\n",
       "      <td>4</td>\n",
       "      <td>Female</td>\n",
       "      <td>23</td>\n",
       "      <td>16</td>\n",
       "      <td>77</td>\n",
       "    </tr>\n",
       "    <tr>\n",
       "      <th>4</th>\n",
       "      <td>5</td>\n",
       "      <td>Female</td>\n",
       "      <td>31</td>\n",
       "      <td>17</td>\n",
       "      <td>40</td>\n",
       "    </tr>\n",
       "  </tbody>\n",
       "</table>\n",
       "</div>"
      ],
      "text/plain": [
       "   CustomerID   Genre  Age  Annual Income (k$)  Spending Score (1-100)\n",
       "0           1    Male   19                  15                      39\n",
       "1           2    Male   21                  15                      81\n",
       "2           3  Female   20                  16                       6\n",
       "3           4  Female   23                  16                      77\n",
       "4           5  Female   31                  17                      40"
      ]
     },
     "execution_count": 6,
     "metadata": {},
     "output_type": "execute_result"
    }
   ],
   "source": [
    "customer_df = pd.read_csv(\"./Mall_Customers.csv\")\n",
    "customer_df.head()"
   ]
  },
  {
   "cell_type": "code",
   "execution_count": 7,
   "id": "cf036b3a-09da-435b-a821-15a25925abda",
   "metadata": {},
   "outputs": [
    {
     "data": {
      "text/plain": [
       "(200, 5)"
      ]
     },
     "execution_count": 7,
     "metadata": {},
     "output_type": "execute_result"
    }
   ],
   "source": [
    "customer_df.shape"
   ]
  },
  {
   "cell_type": "code",
   "execution_count": 8,
   "id": "0e1c80cf-9302-4e6a-af92-b2139a3142d3",
   "metadata": {},
   "outputs": [
    {
     "name": "stdout",
     "output_type": "stream",
     "text": [
      "<class 'pandas.core.frame.DataFrame'>\n",
      "RangeIndex: 200 entries, 0 to 199\n",
      "Data columns (total 5 columns):\n",
      " #   Column                  Non-Null Count  Dtype \n",
      "---  ------                  --------------  ----- \n",
      " 0   CustomerID              200 non-null    int64 \n",
      " 1   Genre                   200 non-null    object\n",
      " 2   Age                     200 non-null    int64 \n",
      " 3   Annual Income (k$)      200 non-null    int64 \n",
      " 4   Spending Score (1-100)  200 non-null    int64 \n",
      "dtypes: int64(4), object(1)\n",
      "memory usage: 7.9+ KB\n"
     ]
    }
   ],
   "source": [
    "customer_df.info()"
   ]
  },
  {
   "cell_type": "code",
   "execution_count": 9,
   "id": "0249917f-3f9e-4b70-b6fc-c4c231cf2322",
   "metadata": {},
   "outputs": [
    {
     "data": {
      "text/plain": [
       "array([[ 15,  39],\n",
       "       [ 15,  81],\n",
       "       [ 16,   6],\n",
       "       [ 16,  77],\n",
       "       [ 17,  40],\n",
       "       [ 17,  76],\n",
       "       [ 18,   6],\n",
       "       [ 18,  94],\n",
       "       [ 19,   3],\n",
       "       [ 19,  72],\n",
       "       [ 19,  14],\n",
       "       [ 19,  99],\n",
       "       [ 20,  15],\n",
       "       [ 20,  77],\n",
       "       [ 20,  13],\n",
       "       [ 20,  79],\n",
       "       [ 21,  35],\n",
       "       [ 21,  66],\n",
       "       [ 23,  29],\n",
       "       [ 23,  98],\n",
       "       [ 24,  35],\n",
       "       [ 24,  73],\n",
       "       [ 25,   5],\n",
       "       [ 25,  73],\n",
       "       [ 28,  14],\n",
       "       [ 28,  82],\n",
       "       [ 28,  32],\n",
       "       [ 28,  61],\n",
       "       [ 29,  31],\n",
       "       [ 29,  87],\n",
       "       [ 30,   4],\n",
       "       [ 30,  73],\n",
       "       [ 33,   4],\n",
       "       [ 33,  92],\n",
       "       [ 33,  14],\n",
       "       [ 33,  81],\n",
       "       [ 34,  17],\n",
       "       [ 34,  73],\n",
       "       [ 37,  26],\n",
       "       [ 37,  75],\n",
       "       [ 38,  35],\n",
       "       [ 38,  92],\n",
       "       [ 39,  36],\n",
       "       [ 39,  61],\n",
       "       [ 39,  28],\n",
       "       [ 39,  65],\n",
       "       [ 40,  55],\n",
       "       [ 40,  47],\n",
       "       [ 40,  42],\n",
       "       [ 40,  42],\n",
       "       [ 42,  52],\n",
       "       [ 42,  60],\n",
       "       [ 43,  54],\n",
       "       [ 43,  60],\n",
       "       [ 43,  45],\n",
       "       [ 43,  41],\n",
       "       [ 44,  50],\n",
       "       [ 44,  46],\n",
       "       [ 46,  51],\n",
       "       [ 46,  46],\n",
       "       [ 46,  56],\n",
       "       [ 46,  55],\n",
       "       [ 47,  52],\n",
       "       [ 47,  59],\n",
       "       [ 48,  51],\n",
       "       [ 48,  59],\n",
       "       [ 48,  50],\n",
       "       [ 48,  48],\n",
       "       [ 48,  59],\n",
       "       [ 48,  47],\n",
       "       [ 49,  55],\n",
       "       [ 49,  42],\n",
       "       [ 50,  49],\n",
       "       [ 50,  56],\n",
       "       [ 54,  47],\n",
       "       [ 54,  54],\n",
       "       [ 54,  53],\n",
       "       [ 54,  48],\n",
       "       [ 54,  52],\n",
       "       [ 54,  42],\n",
       "       [ 54,  51],\n",
       "       [ 54,  55],\n",
       "       [ 54,  41],\n",
       "       [ 54,  44],\n",
       "       [ 54,  57],\n",
       "       [ 54,  46],\n",
       "       [ 57,  58],\n",
       "       [ 57,  55],\n",
       "       [ 58,  60],\n",
       "       [ 58,  46],\n",
       "       [ 59,  55],\n",
       "       [ 59,  41],\n",
       "       [ 60,  49],\n",
       "       [ 60,  40],\n",
       "       [ 60,  42],\n",
       "       [ 60,  52],\n",
       "       [ 60,  47],\n",
       "       [ 60,  50],\n",
       "       [ 61,  42],\n",
       "       [ 61,  49],\n",
       "       [ 62,  41],\n",
       "       [ 62,  48],\n",
       "       [ 62,  59],\n",
       "       [ 62,  55],\n",
       "       [ 62,  56],\n",
       "       [ 62,  42],\n",
       "       [ 63,  50],\n",
       "       [ 63,  46],\n",
       "       [ 63,  43],\n",
       "       [ 63,  48],\n",
       "       [ 63,  52],\n",
       "       [ 63,  54],\n",
       "       [ 64,  42],\n",
       "       [ 64,  46],\n",
       "       [ 65,  48],\n",
       "       [ 65,  50],\n",
       "       [ 65,  43],\n",
       "       [ 65,  59],\n",
       "       [ 67,  43],\n",
       "       [ 67,  57],\n",
       "       [ 67,  56],\n",
       "       [ 67,  40],\n",
       "       [ 69,  58],\n",
       "       [ 69,  91],\n",
       "       [ 70,  29],\n",
       "       [ 70,  77],\n",
       "       [ 71,  35],\n",
       "       [ 71,  95],\n",
       "       [ 71,  11],\n",
       "       [ 71,  75],\n",
       "       [ 71,   9],\n",
       "       [ 71,  75],\n",
       "       [ 72,  34],\n",
       "       [ 72,  71],\n",
       "       [ 73,   5],\n",
       "       [ 73,  88],\n",
       "       [ 73,   7],\n",
       "       [ 73,  73],\n",
       "       [ 74,  10],\n",
       "       [ 74,  72],\n",
       "       [ 75,   5],\n",
       "       [ 75,  93],\n",
       "       [ 76,  40],\n",
       "       [ 76,  87],\n",
       "       [ 77,  12],\n",
       "       [ 77,  97],\n",
       "       [ 77,  36],\n",
       "       [ 77,  74],\n",
       "       [ 78,  22],\n",
       "       [ 78,  90],\n",
       "       [ 78,  17],\n",
       "       [ 78,  88],\n",
       "       [ 78,  20],\n",
       "       [ 78,  76],\n",
       "       [ 78,  16],\n",
       "       [ 78,  89],\n",
       "       [ 78,   1],\n",
       "       [ 78,  78],\n",
       "       [ 78,   1],\n",
       "       [ 78,  73],\n",
       "       [ 79,  35],\n",
       "       [ 79,  83],\n",
       "       [ 81,   5],\n",
       "       [ 81,  93],\n",
       "       [ 85,  26],\n",
       "       [ 85,  75],\n",
       "       [ 86,  20],\n",
       "       [ 86,  95],\n",
       "       [ 87,  27],\n",
       "       [ 87,  63],\n",
       "       [ 87,  13],\n",
       "       [ 87,  75],\n",
       "       [ 87,  10],\n",
       "       [ 87,  92],\n",
       "       [ 88,  13],\n",
       "       [ 88,  86],\n",
       "       [ 88,  15],\n",
       "       [ 88,  69],\n",
       "       [ 93,  14],\n",
       "       [ 93,  90],\n",
       "       [ 97,  32],\n",
       "       [ 97,  86],\n",
       "       [ 98,  15],\n",
       "       [ 98,  88],\n",
       "       [ 99,  39],\n",
       "       [ 99,  97],\n",
       "       [101,  24],\n",
       "       [101,  68],\n",
       "       [103,  17],\n",
       "       [103,  85],\n",
       "       [103,  23],\n",
       "       [103,  69],\n",
       "       [113,   8],\n",
       "       [113,  91],\n",
       "       [120,  16],\n",
       "       [120,  79],\n",
       "       [126,  28],\n",
       "       [126,  74],\n",
       "       [137,  18],\n",
       "       [137,  83]])"
      ]
     },
     "execution_count": 9,
     "metadata": {},
     "output_type": "execute_result"
    }
   ],
   "source": [
    "X = customer_df.iloc[:, [3,4]].values\n",
    "X"
   ]
  },
  {
   "cell_type": "code",
   "execution_count": 10,
   "id": "0a2369a7-9be2-4798-946f-66d608a3db5f",
   "metadata": {},
   "outputs": [],
   "source": [
    "#import the sklearn library\n",
    "from sklearn.cluster import KMeans"
   ]
  },
  {
   "cell_type": "markdown",
   "id": "dc822a39-2b7b-4afd-a061-90d9a15a758c",
   "metadata": {},
   "source": [
    "### Using the Elbow Method to get the number of cluster patterns in this data"
   ]
  },
  {
   "cell_type": "code",
   "execution_count": 12,
   "id": "65b27a7d-de7a-432d-b9e1-ab19d702691d",
   "metadata": {},
   "outputs": [],
   "source": [
    "wcss = []"
   ]
  },
  {
   "cell_type": "code",
   "execution_count": 13,
   "id": "9c5dc9f5-0e40-4b11-860e-829ce980a35d",
   "metadata": {},
   "outputs": [],
   "source": [
    "for i in range(1,11):\n",
    "    kmeans = KMeans(n_clusters = i , init='k-means++' , random_state = 0)\n",
    "    kmeans.fit(X)\n",
    "    wcss.append(kmeans.inertia_)"
   ]
  },
  {
   "cell_type": "code",
   "execution_count": 14,
   "id": "e2a42c24-b734-408a-8a07-54a7201a7558",
   "metadata": {},
   "outputs": [
    {
     "data": {
      "text/plain": [
       "[269981.28,\n",
       " 185917.1425392852,\n",
       " 106348.37306211119,\n",
       " 73679.78903948834,\n",
       " 44448.45544793371,\n",
       " 38858.95997514391,\n",
       " 31969.426550235476,\n",
       " 29858.483597603947,\n",
       " 22209.851608025543,\n",
       " 20786.936692059156]"
      ]
     },
     "execution_count": 14,
     "metadata": {},
     "output_type": "execute_result"
    }
   ],
   "source": [
    "wcss"
   ]
  },
  {
   "cell_type": "code",
   "execution_count": 15,
   "id": "df056418-6f77-4003-8add-b32d9aa0b3b2",
   "metadata": {},
   "outputs": [
    {
     "data": {
      "image/png": "[encoded data removed]",
      "text/plain": [
       "<Figure size 640x480 with 1 Axes>"
      ]
     },
     "metadata": {},
     "output_type": "display_data"
    }
   ],
   "source": [
    "# create a visualization plot to show the number of clusters\n",
    "plt.plot(range(1,11) , wcss)\n",
    "plt.title(\"The elbow method\")\n",
    "plt.xlabel(\"Number of clusters\")\n",
    "plt.ylabel(\"WCSS values\")\n",
    "plt.show()\n"
   ]
  },
  {
   "cell_type": "code",
   "execution_count": 16,
   "id": "7f88ddf3-afbb-4d59-ae3d-f1de6ffdf417",
   "metadata": {},
   "outputs": [],
   "source": [
    "kmeansmodel = KMeans(n_clusters = 5 , init='k-means++' , random_state = 0)"
   ]
  },
  {
   "cell_type": "code",
   "execution_count": 17,
   "id": "be2ffeee-494f-4a44-b31a-4bbebccc6385",
   "metadata": {},
   "outputs": [],
   "source": [
    "y_kmeans = kmeansmodel.fit_predict(X)"
   ]
  },
  {
   "cell_type": "code",
   "execution_count": 18,
   "id": "266c6bb5-eba4-4477-837d-5b90cbb0272c",
   "metadata": {},
   "outputs": [
    {
     "data": {
      "text/plain": [
       "array([3, 4, 3, 4, 3, 4, 3, 4, 3, 4, 3, 4, 3, 4, 3, 4, 3, 4, 3, 4, 3, 4,\n",
       "       3, 4, 3, 4, 3, 4, 3, 4, 3, 4, 3, 4, 3, 4, 3, 4, 3, 4, 3, 4, 3, 0,\n",
       "       3, 4, 0, 0, 0, 0, 0, 0, 0, 0, 0, 0, 0, 0, 0, 0, 0, 0, 0, 0, 0, 0,\n",
       "       0, 0, 0, 0, 0, 0, 0, 0, 0, 0, 0, 0, 0, 0, 0, 0, 0, 0, 0, 0, 0, 0,\n",
       "       0, 0, 0, 0, 0, 0, 0, 0, 0, 0, 0, 0, 0, 0, 0, 0, 0, 0, 0, 0, 0, 0,\n",
       "       0, 0, 0, 0, 0, 0, 0, 0, 0, 0, 0, 0, 0, 1, 2, 1, 0, 1, 2, 1, 2, 1,\n",
       "       0, 1, 2, 1, 2, 1, 2, 1, 2, 1, 0, 1, 2, 1, 2, 1, 2, 1, 2, 1, 2, 1,\n",
       "       2, 1, 2, 1, 2, 1, 2, 1, 2, 1, 2, 1, 2, 1, 2, 1, 2, 1, 2, 1, 2, 1,\n",
       "       2, 1, 2, 1, 2, 1, 2, 1, 2, 1, 2, 1, 2, 1, 2, 1, 2, 1, 2, 1, 2, 1,\n",
       "       2, 1], dtype=int32)"
      ]
     },
     "execution_count": 18,
     "metadata": {},
     "output_type": "execute_result"
    }
   ],
   "source": [
    "y_kmeans"
   ]
  },
  {
   "cell_type": "code",
   "execution_count": 19,
   "id": "b6a7ae0d-75ae-4adc-8546-8408b32e4cbf",
   "metadata": {},
   "outputs": [
    {
     "data": {
      "image/png": "[encoded data removed]",
      "text/plain": [
       "<Figure size 640x480 with 1 Axes>"
      ]
     },
     "metadata": {},
     "output_type": "display_data"
    }
   ],
   "source": [
    "# Visualize the customer's segments\n",
    "\n",
    "plt.scatter(X[y_kmeans == 0,0] , X[y_kmeans == 0,1] , s=80 , c=\"red\" , label = \"Customer 1\")\n",
    "plt.scatter(X[y_kmeans == 1,0] , X[y_kmeans == 1,1] , s=80 , c=\"blue\" , label = \"Customer 2\")\n",
    "plt.scatter(X[y_kmeans == 2,0] , X[y_kmeans == 2,1] , s=80 , c=\"yellow\" , label = \"Customer 3\")\n",
    "plt.scatter(X[y_kmeans == 3,0] , X[y_kmeans == 3,1] , s=80 , c=\"cyan\" , label = \"Customer 4\")\n",
    "plt.scatter(X[y_kmeans == 4,0] , X[y_kmeans == 4,1] , s=80 , c=\"black\" , label = \"Customer 5\")\n",
    "plt.title(\"Clusters of customers\")\n",
    "plt.xlabel(\"Annual Income ($)\")\n",
    "plt.ylabel(\"Spending Score (1-100)\")\n",
    "plt.legend()\n",
    "plt.show()"
   ]
  },
  {
   "cell_type": "markdown",
   "id": "17c25729-cbe0-40dd-bddc-e3ae3dfe9b42",
   "metadata": {},
   "source": [
    "## Assignment One\n",
    "\n",
    "1. Who spends more ( Based on Gender)\n",
    "2. What Category of Age spends the most"
   ]
  },
  {
   "cell_type": "markdown",
   "id": "04b47684-1eb6-4f6f-bd5b-1cb889b080e7",
   "metadata": {},
   "source": [
    "#### Evaluation of KMeans Clustering"
   ]
  },
  {
   "cell_type": "markdown",
   "id": "0e91efaa-7dff-4965-8575-f5fe4839336b",
   "metadata": {},
   "source": [
    "#### Silhouette Analysis "
   ]
  },
  {
   "cell_type": "markdown",
   "id": "3fca4cca-72af-4faf-b4d8-2a92e53ea4dd",
   "metadata": {},
   "source": [
    "This can be used to determine the degree of seperation between clusters."
   ]
  },
  {
   "cell_type": "code",
   "execution_count": 24,
   "id": "35a7b2f7-0d28-475b-b943-99a07a468140",
   "metadata": {},
   "outputs": [],
   "source": [
    "from sklearn.metrics import silhouette_score"
   ]
  },
  {
   "cell_type": "code",
   "execution_count": 25,
   "id": "e1e73fc4-4846-44f9-8899-8f47b6e21add",
   "metadata": {},
   "outputs": [
    {
     "name": "stdout",
     "output_type": "stream",
     "text": [
      "Silhouette_score : 0.553931997444648\n"
     ]
    }
   ],
   "source": [
    "# Calculate the silhouette_score\n",
    "silhouette_avg = silhouette_score(X , y_kmeans)\n",
    "print(\"Silhouette_score :\" , silhouette_avg)"
   ]
  },
  {
   "cell_type": "code",
   "execution_count": 26,
   "id": "6f62ba8f-2425-45a4-96ec-6ee09fc5cb03",
   "metadata": {},
   "outputs": [],
   "source": [
    "import matplotlib.cm as cm\n",
    "from sklearn.metrics import silhouette_samples\n",
    "import numpy as np"
   ]
  },
  {
   "cell_type": "code",
   "execution_count": 27,
   "id": "c420ce6e-786b-4ca3-a0d3-138508f1a53f",
   "metadata": {},
   "outputs": [
    {
     "data": {
      "image/png": "[encoded data removed]",
      "text/plain": [
       "<Figure size 640x480 with 1 Axes>"
      ]
     },
     "metadata": {},
     "output_type": "display_data"
    }
   ],
   "source": [
    "# Calculate silhouette scores for each sample\n",
    "\n",
    "silhouette_values  = silhouette_samples(X , y_kmeans)\n",
    "\n",
    "\n",
    "fig , ax = plt.subplots()\n",
    "\n",
    "\n",
    "y_lower = 10 \n",
    "\n",
    "for i in range(kmeansmodel.n_clusters):\n",
    "\n",
    "    ith_cluster_silhouette_values =  silhouette_values[y_kmeans == i]\n",
    "\n",
    "    ith_cluster_silhouette_values.sort()\n",
    "\n",
    "\n",
    "    size_cluster_i = ith_cluster_silhouette_values.shape[0]\n",
    "\n",
    "    y_upper = y_lower + size_cluster_i\n",
    "\n",
    "    color = cm.nipy_spectral(float(i) / kmeansmodel.n_clusters)\n",
    "\n",
    "    ax.fill_betweenx(np.arange(y_lower , y_upper),\n",
    "                    0 , ith_cluster_silhouette_values,\n",
    "                    facecolor=color , edgecolor=color , alpha=0.7)\n",
    "    ax.text(-0.05 , y_lower + 0.5 * size_cluster_i , str(i))\n",
    "\n",
    "    y_lower = y_upper + 10\n",
    "\n",
    "\n",
    "ax.set_title(\"Silhouette plot for the various clusters\")\n",
    "ax.set_xlabel(\"Silhouette coefficient\")\n",
    "ax.set_ylabel(\"Cluster label\")\n",
    "\n",
    "ax.axvline(x = silhouette_avg , color=\"red\" , linestyle=\"--\")\n",
    "ax.set_yticks([])\n",
    "ax.set_xticks(np.arange(-0.1, 1.1, 0.2))\n",
    "\n",
    "plt.show()\n"
   ]
  },
  {
   "cell_type": "markdown",
   "id": "8fde736e-9573-4ad3-91ea-045e34ec5d24",
   "metadata": {},
   "source": [
    "#### Hierarchical Clustering"
   ]
  },
  {
   "cell_type": "markdown",
   "id": "e0295175-93cd-46be-97f2-060a832b779a",
   "metadata": {},
   "source": [
    "##### Agglomerative Clustering\n",
    "##### Divisive Clustering\n"
   ]
  },
  {
   "cell_type": "markdown",
   "id": "16e75cf9-9a04-4bc6-84af-8cafdd1efa58",
   "metadata": {},
   "source": [
    "### Using the same data for Hierarchical Clustering"
   ]
  },
  {
   "cell_type": "code",
   "execution_count": 31,
   "id": "eb767ae3-3a7e-4223-86bc-ee2e2fbea895",
   "metadata": {},
   "outputs": [
    {
     "data": {
      "text/html": [
       "<div>\n",
       "<style scoped>\n",
       "    .dataframe tbody tr th:only-of-type {\n",
       "        vertical-align: middle;\n",
       "    }\n",
       "\n",
       "    .dataframe tbody tr th {\n",
       "        vertical-align: top;\n",
       "    }\n",
       "\n",
       "    .dataframe thead th {\n",
       "        text-align: right;\n",
       "    }\n",
       "</style>\n",
       "<table border=\"1\" class=\"dataframe\">\n",
       "  <thead>\n",
       "    <tr style=\"text-align: right;\">\n",
       "      <th></th>\n",
       "      <th>Age</th>\n",
       "      <th>Annual Income (k$)</th>\n",
       "    </tr>\n",
       "  </thead>\n",
       "  <tbody>\n",
       "    <tr>\n",
       "      <th>0</th>\n",
       "      <td>19</td>\n",
       "      <td>15</td>\n",
       "    </tr>\n",
       "    <tr>\n",
       "      <th>1</th>\n",
       "      <td>21</td>\n",
       "      <td>15</td>\n",
       "    </tr>\n",
       "    <tr>\n",
       "      <th>2</th>\n",
       "      <td>20</td>\n",
       "      <td>16</td>\n",
       "    </tr>\n",
       "    <tr>\n",
       "      <th>3</th>\n",
       "      <td>23</td>\n",
       "      <td>16</td>\n",
       "    </tr>\n",
       "    <tr>\n",
       "      <th>4</th>\n",
       "      <td>31</td>\n",
       "      <td>17</td>\n",
       "    </tr>\n",
       "    <tr>\n",
       "      <th>...</th>\n",
       "      <td>...</td>\n",
       "      <td>...</td>\n",
       "    </tr>\n",
       "    <tr>\n",
       "      <th>195</th>\n",
       "      <td>35</td>\n",
       "      <td>120</td>\n",
       "    </tr>\n",
       "    <tr>\n",
       "      <th>196</th>\n",
       "      <td>45</td>\n",
       "      <td>126</td>\n",
       "    </tr>\n",
       "    <tr>\n",
       "      <th>197</th>\n",
       "      <td>32</td>\n",
       "      <td>126</td>\n",
       "    </tr>\n",
       "    <tr>\n",
       "      <th>198</th>\n",
       "      <td>32</td>\n",
       "      <td>137</td>\n",
       "    </tr>\n",
       "    <tr>\n",
       "      <th>199</th>\n",
       "      <td>30</td>\n",
       "      <td>137</td>\n",
       "    </tr>\n",
       "  </tbody>\n",
       "</table>\n",
       "<p>200 rows × 2 columns</p>\n",
       "</div>"
      ],
      "text/plain": [
       "     Age  Annual Income (k$)\n",
       "0     19                  15\n",
       "1     21                  15\n",
       "2     20                  16\n",
       "3     23                  16\n",
       "4     31                  17\n",
       "..   ...                 ...\n",
       "195   35                 120\n",
       "196   45                 126\n",
       "197   32                 126\n",
       "198   32                 137\n",
       "199   30                 137\n",
       "\n",
       "[200 rows x 2 columns]"
      ]
     },
     "execution_count": 31,
     "metadata": {},
     "output_type": "execute_result"
    }
   ],
   "source": [
    "datasubset = customer_df.loc[:, [\"Age\" , \"Annual Income (k$)\"]]\n",
    "datasubset"
   ]
  },
  {
   "cell_type": "code",
   "execution_count": 32,
   "id": "96c844c4-db0e-4d7d-b943-3fc4b181ad8c",
   "metadata": {},
   "outputs": [
    {
     "data": {
      "text/plain": [
       "<matplotlib.collections.PathCollection at 0x14cc91a30>"
      ]
     },
     "execution_count": 32,
     "metadata": {},
     "output_type": "execute_result"
    },
    {
     "data": {
      "image/png": "[encoded data removed]",
      "text/plain": [
       "<Figure size 1000x700 with 1 Axes>"
      ]
     },
     "metadata": {},
     "output_type": "display_data"
    }
   ],
   "source": [
    "plt.figure(figsize = (10 , 7))\n",
    "plt.scatter(datasubset[[\"Age\"]] , datasubset[[\"Annual Income (k$)\"]] , s = 100 , c = \"blue\")"
   ]
  },
  {
   "cell_type": "code",
   "execution_count": 33,
   "id": "10495b47-d5bb-4f05-aeba-d93070861c60",
   "metadata": {},
   "outputs": [
    {
     "data": {
      "image/png": "[encoded data removed]",
      "text/plain": [
       "<Figure size 1000x700 with 1 Axes>"
      ]
     },
     "metadata": {},
     "output_type": "display_data"
    }
   ],
   "source": [
    "import scipy.cluster.hierarchy as sch\n",
    "\n",
    "plt.figure(figsize = (10 , 7))\n",
    "\n",
    "\n",
    "dendogram = sch.dendrogram(sch.linkage(datasubset , method  = \"ward\"))\n",
    "plt.title(\"Dendogram\")\n",
    "plt.xlabel(\"Customers\")\n",
    "plt.ylabel(\"Euclidean distances\")\n",
    "plt.show()\n",
    "          \n",
    "                          "
   ]
  },
  {
   "cell_type": "code",
   "execution_count": 34,
   "id": "a5dd7712-2c73-40d0-a103-4bf320e85511",
   "metadata": {},
   "outputs": [
    {
     "data": {
      "text/plain": [
       "array([1, 1, 1, 1, 1, 1, 1, 1, 1, 1, 1, 1, 1, 1, 1, 1, 1, 1, 1, 1, 1, 1,\n",
       "       1, 1, 1, 1, 1, 1, 1, 1, 1, 1, 1, 1, 1, 1, 1, 1, 1, 1, 1, 1, 1, 1,\n",
       "       1, 1, 1, 1, 1, 1, 1, 1, 1, 1, 1, 1, 1, 1, 1, 1, 1, 1, 1, 1, 1, 1,\n",
       "       0, 1, 1, 1, 1, 0, 1, 1, 1, 0, 0, 0, 0, 0, 1, 0, 1, 0, 0, 0, 1, 0,\n",
       "       0, 0, 1, 0, 0, 0, 0, 0, 0, 0, 0, 0, 0, 0, 1, 0, 0, 0, 1, 0, 1, 1,\n",
       "       1, 0, 0, 0, 0, 0, 1, 0, 0, 0, 0, 0, 0, 0, 0, 0, 0, 0, 0, 0, 0, 0,\n",
       "       0, 0, 0, 0, 0, 0, 0, 0, 0, 0, 0, 0, 0, 0, 0, 0, 0, 0, 0, 0, 0, 0,\n",
       "       0, 0, 0, 0, 0, 0, 0, 0, 0, 0, 0, 0, 0, 0, 0, 0, 0, 0, 0, 0, 0, 0,\n",
       "       0, 0, 0, 0, 0, 0, 0, 0, 0, 0, 0, 0, 0, 0, 0, 0, 0, 0, 0, 0, 0, 0,\n",
       "       0, 0])"
      ]
     },
     "execution_count": 34,
     "metadata": {},
     "output_type": "execute_result"
    }
   ],
   "source": [
    "from sklearn.cluster import AgglomerativeClustering\n",
    "\n",
    "cluster = AgglomerativeClustering(n_clusters = 2 , linkage = \"ward\")\n",
    "cluster.fit_predict(datasubset)"
   ]
  },
  {
   "cell_type": "code",
   "execution_count": 35,
   "id": "c4d46dac-ec62-4d5b-bcbd-e2aa138d47d3",
   "metadata": {},
   "outputs": [],
   "source": [
    "cl = cluster.fit_predict(datasubset)"
   ]
  },
  {
   "cell_type": "code",
   "execution_count": 36,
   "id": "efdfc4c2-37f4-44aa-8d50-4e551db3093a",
   "metadata": {},
   "outputs": [
    {
     "data": {
      "text/plain": [
       "0.4104652474372429"
      ]
     },
     "execution_count": 36,
     "metadata": {},
     "output_type": "execute_result"
    }
   ],
   "source": [
    "silhouette_score(datasubset , cl) "
   ]
  },
  {
   "cell_type": "code",
   "execution_count": 37,
   "id": "b0d9ed0b-a621-480b-9215-3cdde82e2bad",
   "metadata": {},
   "outputs": [],
   "source": [
    "X = datasubset.values"
   ]
  },
  {
   "cell_type": "code",
   "execution_count": 38,
   "id": "31a4fdeb-46c2-4ad4-b91d-ecf1988e76e1",
   "metadata": {},
   "outputs": [
    {
     "data": {
      "text/plain": [
       "array([[19, 15],\n",
       "       [21, 15],\n",
       "       [20, 16],\n",
       "       [23, 16],\n",
       "       [31, 17],\n",
       "       [22, 17]])"
      ]
     },
     "execution_count": 38,
     "metadata": {},
     "output_type": "execute_result"
    }
   ],
   "source": [
    "X[0:6]"
   ]
  },
  {
   "cell_type": "code",
   "execution_count": 39,
   "id": "6fbfe01c-6d9b-4a9b-9cdb-f3c228a39acc",
   "metadata": {},
   "outputs": [
    {
     "data": {
      "image/png": "[encoded data removed]",
      "text/plain": [
       "<Figure size 1000x700 with 1 Axes>"
      ]
     },
     "metadata": {},
     "output_type": "display_data"
    }
   ],
   "source": [
    "plt.figure(figsize = (10,7))\n",
    "plt.scatter(X[cl == 0,0] , X[cl == 0,1] , s = 100 , c = 'red' , label = 'Cluster1')\n",
    "plt.scatter(X[cl == 1,0] , X[cl == 1,1] , s = 100 , c = 'blue' , label = 'Cluster2')\n",
    "plt.title(\"Clusters of Mall Customers\")\n",
    "plt.xlabel(\"Age\")\n",
    "plt.ylabel(\"Annual Income (k$)\")\n",
    "plt.show()"
   ]
  },
  {
   "cell_type": "markdown",
   "id": "a068d527-30cf-45c1-8bc8-01df52a9c89f",
   "metadata": {},
   "source": [
    "# DBSCAN CLUSTERING"
   ]
  },
  {
   "cell_type": "code",
   "execution_count": 70,
   "id": "11b85594-68c5-4b6c-90db-d036743e6cdf",
   "metadata": {},
   "outputs": [],
   "source": [
    "from sklearn.neighbors import NearestNeighbors\n",
    "\n",
    "neigh = NearestNeighbors(n_neighbors =2)\n",
    "nbrs = neigh.fit(X)\n",
    "distances , indices =nbrs.kneighbors(X)"
   ]
  },
  {
   "cell_type": "code",
   "execution_count": 72,
   "id": "6cf9616e-9e81-4f93-9737-20ae78dd34c0",
   "metadata": {},
   "outputs": [
    {
     "data": {
      "text/plain": [
       "array([[0.        , 1.41421356],\n",
       "       [0.        , 1.41421356],\n",
       "       [0.        , 1.41421356],\n",
       "       [0.        , 1.41421356],\n",
       "       [0.        , 2.23606798],\n",
       "       [0.        , 1.41421356],\n",
       "       [0.        , 1.        ],\n",
       "       [0.        , 1.41421356],\n",
       "       [0.        , 3.        ],\n",
       "       [0.        , 2.23606798],\n",
       "       [0.        , 3.        ],\n",
       "       [0.        , 1.        ],\n",
       "       [0.        , 6.08276253],\n",
       "       [0.        , 2.        ],\n",
       "       [0.        , 2.23606798],\n",
       "       [0.        , 2.        ],\n",
       "       [0.        , 2.        ],\n",
       "       [0.        , 2.23606798],\n",
       "       [0.        , 5.38516481],\n",
       "       [0.        , 1.        ],\n",
       "       [0.        , 1.        ],\n",
       "       [0.        , 4.12310563],\n",
       "       [0.        , 3.16227766],\n",
       "       [0.        , 3.60555128],\n",
       "       [0.        , 5.09901951],\n",
       "       [0.        , 3.60555128],\n",
       "       [0.        , 3.16227766],\n",
       "       [0.        , 4.        ],\n",
       "       [0.        , 5.09901951],\n",
       "       [0.        , 2.23606798],\n",
       "       [0.        , 6.32455532],\n",
       "       [0.        , 2.23606798],\n",
       "       [0.        , 4.        ],\n",
       "       [0.        , 3.        ],\n",
       "       [0.        , 4.        ],\n",
       "       [0.        , 3.        ],\n",
       "       [0.        , 5.38516481],\n",
       "       [0.        , 5.09901951],\n",
       "       [0.        , 5.38516481],\n",
       "       [0.        , 4.12310563],\n",
       "       [0.        , 7.21110255],\n",
       "       [0.        , 1.        ],\n",
       "       [0.        , 1.        ],\n",
       "       [0.        , 1.        ],\n",
       "       [0.        , 1.        ],\n",
       "       [0.        , 1.        ],\n",
       "       [0.        , 1.41421356],\n",
       "       [0.        , 2.        ],\n",
       "       [0.        , 2.        ],\n",
       "       [0.        , 1.        ],\n",
       "       [0.        , 1.41421356],\n",
       "       [0.        , 2.23606798],\n",
       "       [0.        , 2.23606798],\n",
       "       [0.        , 6.40312424],\n",
       "       [0.        , 1.41421356],\n",
       "       [0.        , 2.23606798],\n",
       "       [0.        , 1.41421356],\n",
       "       [0.        , 2.23606798],\n",
       "       [0.        , 5.        ],\n",
       "       [0.        , 1.41421356],\n",
       "       [0.        , 2.23606798],\n",
       "       [0.        , 2.        ],\n",
       "       [0.        , 1.41421356],\n",
       "       [0.        , 1.41421356],\n",
       "       [0.        , 3.60555128],\n",
       "       [0.        , 1.        ],\n",
       "       [0.        , 4.12310563],\n",
       "       [0.        , 1.41421356],\n",
       "       [0.        , 1.        ],\n",
       "       [0.        , 5.09901951],\n",
       "       [0.        , 2.23606798],\n",
       "       [0.        , 4.12310563],\n",
       "       [0.        , 0.        ],\n",
       "       [0.        , 0.        ],\n",
       "       [0.        , 2.        ],\n",
       "       [0.        , 3.        ],\n",
       "       [0.        , 1.        ],\n",
       "       [0.        , 2.        ],\n",
       "       [0.        , 2.        ],\n",
       "       [0.        , 1.        ],\n",
       "       [0.        , 2.        ],\n",
       "       [0.        , 2.        ],\n",
       "       [0.        , 5.09901951],\n",
       "       [0.        , 1.        ],\n",
       "       [0.        , 2.        ],\n",
       "       [0.        , 1.        ],\n",
       "       [0.        , 3.60555128],\n",
       "       [0.        , 3.16227766],\n",
       "       [0.        , 2.82842712],\n",
       "       [0.        , 2.82842712],\n",
       "       [0.        , 3.16227766],\n",
       "       [0.        , 2.82842712],\n",
       "       [0.        , 1.        ],\n",
       "       [0.        , 4.47213595],\n",
       "       [0.        , 2.82842712],\n",
       "       [0.        , 2.23606798],\n",
       "       [0.        , 1.        ],\n",
       "       [0.        , 2.23606798],\n",
       "       [0.        , 1.        ],\n",
       "       [0.        , 1.41421356],\n",
       "       [0.        , 2.        ],\n",
       "       [0.        , 0.        ],\n",
       "       [0.        , 1.41421356],\n",
       "       [0.        , 2.23606798],\n",
       "       [0.        , 0.        ],\n",
       "       [0.        , 1.41421356],\n",
       "       [0.        , 0.        ],\n",
       "       [0.        , 5.        ],\n",
       "       [0.        , 1.41421356],\n",
       "       [0.        , 0.        ],\n",
       "       [0.        , 1.        ],\n",
       "       [0.        , 1.        ],\n",
       "       [0.        , 3.        ],\n",
       "       [0.        , 1.        ],\n",
       "       [0.        , 1.        ],\n",
       "       [0.        , 1.        ],\n",
       "       [0.        , 2.82842712],\n",
       "       [0.        , 2.23606798],\n",
       "       [0.        , 1.        ],\n",
       "       [0.        , 1.        ],\n",
       "       [0.        , 5.        ],\n",
       "       [0.        , 2.23606798],\n",
       "       [0.        , 1.        ],\n",
       "       [0.        , 1.        ],\n",
       "       [0.        , 2.82842712],\n",
       "       [0.        , 2.        ],\n",
       "       [0.        , 2.23606798],\n",
       "       [0.        , 1.        ],\n",
       "       [0.        , 4.47213595],\n",
       "       [0.        , 1.        ],\n",
       "       [0.        , 3.60555128],\n",
       "       [0.        , 1.        ],\n",
       "       [0.        , 2.82842712],\n",
       "       [0.        , 1.41421356],\n",
       "       [0.        , 1.41421356],\n",
       "       [0.        , 2.23606798],\n",
       "       [0.        , 2.23606798],\n",
       "       [0.        , 1.41421356],\n",
       "       [0.        , 1.41421356],\n",
       "       [0.        , 3.16227766],\n",
       "       [0.        , 4.12310563],\n",
       "       [0.        , 1.        ],\n",
       "       [0.        , 1.        ],\n",
       "       [0.        , 1.        ],\n",
       "       [0.        , 2.23606798],\n",
       "       [0.        , 1.        ],\n",
       "       [0.        , 1.41421356],\n",
       "       [0.        , 1.        ],\n",
       "       [0.        , 0.        ],\n",
       "       [0.        , 0.        ],\n",
       "       [0.        , 1.        ],\n",
       "       [0.        , 1.        ],\n",
       "       [0.        , 1.        ],\n",
       "       [0.        , 1.        ],\n",
       "       [0.        , 1.41421356],\n",
       "       [0.        , 1.41421356],\n",
       "       [0.        , 1.        ],\n",
       "       [0.        , 0.        ],\n",
       "       [0.        , 0.        ],\n",
       "       [0.        , 0.        ],\n",
       "       [0.        , 4.12310563],\n",
       "       [0.        , 1.41421356],\n",
       "       [0.        , 7.        ],\n",
       "       [0.        , 2.82842712],\n",
       "       [0.        , 3.60555128],\n",
       "       [0.        , 2.        ],\n",
       "       [0.        , 2.23606798],\n",
       "       [0.        , 1.41421356],\n",
       "       [0.        , 0.        ],\n",
       "       [0.        , 1.41421356],\n",
       "       [0.        , 2.23606798],\n",
       "       [0.        , 1.41421356],\n",
       "       [0.        , 0.        ],\n",
       "       [0.        , 0.        ],\n",
       "       [0.        , 3.60555128],\n",
       "       [0.        , 2.23606798],\n",
       "       [0.        , 5.09901951],\n",
       "       [0.        , 1.41421356],\n",
       "       [0.        , 5.09901951],\n",
       "       [0.        , 4.47213595],\n",
       "       [0.        , 4.47213595],\n",
       "       [0.        , 2.82842712],\n",
       "       [0.        , 5.09901951],\n",
       "       [0.        , 1.41421356],\n",
       "       [0.        , 4.        ],\n",
       "       [0.        , 1.41421356],\n",
       "       [0.        , 8.54400375],\n",
       "       [0.        , 2.82842712],\n",
       "       [0.        , 4.        ],\n",
       "       [0.        , 2.        ],\n",
       "       [0.        , 2.        ],\n",
       "       [0.        , 2.        ],\n",
       "       [0.        , 5.        ],\n",
       "       [0.        , 5.        ],\n",
       "       [0.        , 6.32455532],\n",
       "       [0.        , 6.70820393],\n",
       "       [0.        , 6.32455532],\n",
       "       [0.        , 6.70820393],\n",
       "       [0.        , 2.        ],\n",
       "       [0.        , 2.        ]])"
      ]
     },
     "execution_count": 72,
     "metadata": {},
     "output_type": "execute_result"
    }
   ],
   "source": [
    "distances"
   ]
  },
  {
   "cell_type": "code",
   "execution_count": 74,
   "id": "d81bd82c-6ea3-4f21-8155-0d48210edc64",
   "metadata": {},
   "outputs": [
    {
     "data": {
      "text/plain": [
       "array([[  0,   2],\n",
       "       [  1,   2],\n",
       "       [  2,   0],\n",
       "       [  3,   5],\n",
       "       [  4,   9],\n",
       "       [  5,   3],\n",
       "       [  6,  11],\n",
       "       [  7,   5],\n",
       "       [  8,  10],\n",
       "       [  9,   4],\n",
       "       [ 10,   8],\n",
       "       [ 11,   6],\n",
       "       [ 12,   8],\n",
       "       [ 13,  15],\n",
       "       [ 14,  11],\n",
       "       [ 15,  13],\n",
       "       [ 16,  19],\n",
       "       [ 17,  15],\n",
       "       [ 18,  24],\n",
       "       [ 19,  20],\n",
       "       [ 20,  19],\n",
       "       [ 21,  13],\n",
       "       [ 22,  26],\n",
       "       [ 23,  25],\n",
       "       [ 24,  32],\n",
       "       [ 25,  23],\n",
       "       [ 26,  22],\n",
       "       [ 27,  20],\n",
       "       [ 28,  26],\n",
       "       [ 29,  31],\n",
       "       [ 30,  24],\n",
       "       [ 31,  29],\n",
       "       [ 32,  34],\n",
       "       [ 33,  35],\n",
       "       [ 34,  32],\n",
       "       [ 35,  33],\n",
       "       [ 36,  28],\n",
       "       [ 37,  43],\n",
       "       [ 38,  43],\n",
       "       [ 39,  35],\n",
       "       [ 40,  57],\n",
       "       [ 41,  45],\n",
       "       [ 42,  44],\n",
       "       [ 43,  49],\n",
       "       [ 44,  42],\n",
       "       [ 45,  41],\n",
       "       [ 46,  44],\n",
       "       [ 47,  48],\n",
       "       [ 48,  49],\n",
       "       [ 49,  43],\n",
       "       [ 50,  54],\n",
       "       [ 51,  52],\n",
       "       [ 52,  51],\n",
       "       [ 53,  64],\n",
       "       [ 54,  50],\n",
       "       [ 55,  50],\n",
       "       [ 56,  54],\n",
       "       [ 57,  60],\n",
       "       [ 58,  52],\n",
       "       [ 59,  63],\n",
       "       [ 60,  57],\n",
       "       [ 61,  68],\n",
       "       [ 62,  67],\n",
       "       [ 63,  59],\n",
       "       [ 64,  72],\n",
       "       [ 65,  68],\n",
       "       [ 66,  71],\n",
       "       [ 67,  62],\n",
       "       [ 68,  65],\n",
       "       [ 69,  52],\n",
       "       [ 70,  67],\n",
       "       [ 71,  66],\n",
       "       [ 73,  72],\n",
       "       [ 73,  72],\n",
       "       [ 74,  80],\n",
       "       [ 75,  78],\n",
       "       [ 76,  83],\n",
       "       [ 77,  81],\n",
       "       [ 78,  84],\n",
       "       [ 79,  85],\n",
       "       [ 80,  74],\n",
       "       [ 81,  77],\n",
       "       [ 82,  90],\n",
       "       [ 83,  76],\n",
       "       [ 84,  78],\n",
       "       [ 85,  79],\n",
       "       [ 86,  80],\n",
       "       [ 87,  84],\n",
       "       [ 88,  94],\n",
       "       [ 89,  92],\n",
       "       [ 90, 102],\n",
       "       [ 91,  99],\n",
       "       [ 92,  96],\n",
       "       [ 93, 112],\n",
       "       [ 94,  88],\n",
       "       [ 95, 100],\n",
       "       [ 96,  92],\n",
       "       [ 97, 103],\n",
       "       [ 98,  92],\n",
       "       [ 99, 105],\n",
       "       [100, 105],\n",
       "       [104, 101],\n",
       "       [102, 106],\n",
       "       [103,  97],\n",
       "       [104, 101],\n",
       "       [105,  99],\n",
       "       [109, 106],\n",
       "       [107, 118],\n",
       "       [108, 102],\n",
       "       [109, 106],\n",
       "       [110, 106],\n",
       "       [111, 113],\n",
       "       [112, 121],\n",
       "       [113, 111],\n",
       "       [114, 115],\n",
       "       [115, 113],\n",
       "       [116, 110],\n",
       "       [117, 119],\n",
       "       [118, 119],\n",
       "       [119, 118],\n",
       "       [120, 124],\n",
       "       [121, 123],\n",
       "       [122, 123],\n",
       "       [123, 122],\n",
       "       [124, 132],\n",
       "       [125, 133],\n",
       "       [126, 136],\n",
       "       [127, 131],\n",
       "       [128, 140],\n",
       "       [129, 131],\n",
       "       [130, 136],\n",
       "       [131, 127],\n",
       "       [132, 124],\n",
       "       [133, 137],\n",
       "       [134, 138],\n",
       "       [135, 133],\n",
       "       [136, 126],\n",
       "       [137, 133],\n",
       "       [138, 134],\n",
       "       [139, 137],\n",
       "       [140, 160],\n",
       "       [141, 143],\n",
       "       [142, 145],\n",
       "       [143, 141],\n",
       "       [144, 155],\n",
       "       [145, 142],\n",
       "       [146, 154],\n",
       "       [147, 143],\n",
       "       [149, 148],\n",
       "       [149, 148],\n",
       "       [150, 152],\n",
       "       [151, 153],\n",
       "       [152, 150],\n",
       "       [153, 151],\n",
       "       [154, 146],\n",
       "       [155, 145],\n",
       "       [156, 153],\n",
       "       [159, 157],\n",
       "       [149, 148],\n",
       "       [159, 157],\n",
       "       [160, 140],\n",
       "       [161, 157],\n",
       "       [162, 138],\n",
       "       [163, 161],\n",
       "       [164, 174],\n",
       "       [165, 168],\n",
       "       [166, 170],\n",
       "       [167, 169],\n",
       "       [172, 168],\n",
       "       [169, 167],\n",
       "       [170, 166],\n",
       "       [171, 177],\n",
       "       [172, 168],\n",
       "       [172, 168],\n",
       "       [174, 164],\n",
       "       [175, 169],\n",
       "       [176, 178],\n",
       "       [177, 171],\n",
       "       [178, 176],\n",
       "       [179, 180],\n",
       "       [180, 179],\n",
       "       [181, 185],\n",
       "       [182, 184],\n",
       "       [183, 185],\n",
       "       [184, 188],\n",
       "       [185, 183],\n",
       "       [186, 182],\n",
       "       [187, 185],\n",
       "       [188, 184],\n",
       "       [189, 190],\n",
       "       [190, 189],\n",
       "       [191, 190],\n",
       "       [192, 193],\n",
       "       [193, 192],\n",
       "       [194, 196],\n",
       "       [195, 197],\n",
       "       [196, 194],\n",
       "       [197, 195],\n",
       "       [198, 199],\n",
       "       [199, 198]])"
      ]
     },
     "execution_count": 74,
     "metadata": {},
     "output_type": "execute_result"
    }
   ],
   "source": [
    "indices"
   ]
  },
  {
   "cell_type": "code",
   "execution_count": 76,
   "id": "a071efee-2be9-45b6-bc14-da9349c3d063",
   "metadata": {},
   "outputs": [
    {
     "data": {
      "text/plain": [
       "[<matplotlib.lines.Line2D at 0x16bce5a60>]"
      ]
     },
     "execution_count": 76,
     "metadata": {},
     "output_type": "execute_result"
    },
    {
     "data": {
      "image/png": "[encoded data removed]",
      "text/plain": [
       "<Figure size 640x480 with 1 Axes>"
      ]
     },
     "metadata": {},
     "output_type": "display_data"
    }
   ],
   "source": [
    "distances = np.sort(distances , axis = 0)\n",
    "distances = distances[: , 1]\n",
    "plt.plot(distances)"
   ]
  },
  {
   "cell_type": "code",
   "execution_count": 78,
   "id": "7c5c31a7-67ff-44ac-b444-21bdc8288746",
   "metadata": {},
   "outputs": [],
   "source": [
    "from sklearn.cluster import DBSCAN\n",
    "\n",
    "dbscancluster = DBSCAN(eps=7 , min_samples=5)\n",
    "dbscancluster.fit(X)\n",
    "clusters = dbscancluster.labels_"
   ]
  },
  {
   "cell_type": "code",
   "execution_count": 82,
   "id": "2a185899-2c45-4985-b8af-fee478be07bf",
   "metadata": {},
   "outputs": [
    {
     "data": {
      "text/plain": [
       "3"
      ]
     },
     "execution_count": 82,
     "metadata": {},
     "output_type": "execute_result"
    }
   ],
   "source": [
    "len(set(clusters))"
   ]
  },
  {
   "cell_type": "code",
   "execution_count": 84,
   "id": "ef04ad92-ddd8-4c8e-a3f1-98fc2773bad4",
   "metadata": {},
   "outputs": [
    {
     "data": {
      "text/plain": [
       "array([ 0,  0,  0,  0,  0,  0,  0,  0, -1,  0, -1,  0, -1,  0,  0,  0,  0,\n",
       "        0, -1,  0,  0,  0,  1,  0, -1,  0,  1,  0,  0,  0, -1,  0,  1,  0,\n",
       "        1,  0,  0,  0,  0,  0, -1,  0,  1,  0,  1,  0,  1,  0,  0,  0,  1,\n",
       "        0,  0,  1,  1,  1,  1,  1,  0,  1,  1, -1,  1,  1,  1,  1,  1,  1,\n",
       "        1,  0,  1,  1,  1,  1,  1,  1,  1,  1,  1,  1,  1,  1,  1,  1,  1,\n",
       "        1,  1,  1,  1,  1,  1,  1,  1,  1,  1,  1,  1,  1,  1,  1,  1,  1,\n",
       "        1,  1,  1,  1,  1,  1,  1,  1,  1,  1,  1,  1,  1,  1,  1,  1,  1,\n",
       "        1,  1,  1,  1,  1,  1,  1,  1,  1, -1,  1,  1,  1,  1,  1,  1,  1,\n",
       "        1,  1,  1,  1, -1,  1,  1,  1,  1,  1,  1,  1,  1,  1,  1,  1,  1,\n",
       "        1,  1,  1,  1,  1,  1,  1, -1,  1,  1,  1, -1,  1,  1,  1,  1,  1,\n",
       "        1,  1,  1,  1, -1,  1, -1,  1, -1,  1,  1,  1,  1,  1,  1,  1, -1,\n",
       "        1,  1,  1,  1,  1, -1, -1, -1, -1, -1, -1, -1, -1])"
      ]
     },
     "execution_count": 84,
     "metadata": {},
     "output_type": "execute_result"
    }
   ],
   "source": [
    "clusters"
   ]
  },
  {
   "cell_type": "code",
   "execution_count": 90,
   "id": "0b1b2c42-fa2b-4d3b-8f3f-9cfa2844cab0",
   "metadata": {},
   "outputs": [
    {
     "data": {
      "text/plain": [
       "0.28705019416571775"
      ]
     },
     "execution_count": 90,
     "metadata": {},
     "output_type": "execute_result"
    }
   ],
   "source": [
    "silhouette_score(X, clusters)"
   ]
  },
  {
   "cell_type": "code",
   "execution_count": null,
   "id": "251a742c-4b38-425c-a15b-2c2f23a7dbdd",
   "metadata": {},
   "outputs": [],
   "source": []
  }
 ],
 "metadata": {
  "kernelspec": {
   "display_name": "Python 3 (ipykernel)",
   "language": "python",
   "name": "python3"
  },
  "language_info": {
   "codemirror_mode": {
    "name": "ipython",
    "version": 3
   },
   "file_extension": ".py",
   "mimetype": "text/x-python",
   "name": "python",
   "nbconvert_exporter": "python",
   "pygments_lexer": "ipython3",
   "version": "3.12.7"
  }
 },
 "nbformat": 4,
 "nbformat_minor": 5
}
